{
 "cells": [
  {
   "cell_type": "markdown",
   "metadata": {},
   "source": [
    "# Machine Configuration"
   ]
  },
  {
   "cell_type": "code",
   "execution_count": 62,
   "metadata": {},
   "outputs": [],
   "source": [
    "OMNETPP_PATH = \"C:\\\\omnet\\\\omnetpp-5.5.1\\\\\"\n",
    "SDN4CORE_PATH = \"/C/Users/Timo/Workspace/omnet/SDN4CoRE/\""
   ]
  },
  {
   "cell_type": "code",
   "execution_count": 63,
   "metadata": {},
   "outputs": [],
   "source": [
    "import glob\n",
    "import pandas as pd\n",
    "import numpy as np\n",
    "import ntpath\n",
    "import matplotlib.pyplot as plt\n",
    "import os\n",
    "%matplotlib inline\n",
    "\n",
    "## Helpers:\n",
    "def parse_if_number(s):\n",
    "    try: return float(s)\n",
    "    except: return True if s==\"true\" else False if s==\"false\" else s if s else None\n",
    "\n",
    "def parse_ndarray(s):\n",
    "    return np.fromstring(s, sep=' ') if s else None\n",
    "\n",
    "def path_leaf(path):\n",
    "    head, tail = ntpath.split(path)\n",
    "    return tail or ntpath.basename(head)"
   ]
  },
  {
   "cell_type": "markdown",
   "metadata": {},
   "source": [
    "# Scavetool -- parse filtered result files into csv"
   ]
  },
  {
   "cell_type": "code",
   "execution_count": 64,
   "metadata": {},
   "outputs": [
    {
     "name": "stdout",
     "output_type": "stream",
     "text": [
      "C:\\omnet\\omnetpp-5.5.1\\tools\\win64\\msys2_shell.cmd -mingw64 -ic \"echo ./results/SDN_Switches_Study-S=1,N=1-#0.*; scavetool x /C/Users/Timo/Workspace/omnet/SDN4CoRE/examples/papers/vtc2023spring/scaling/./results/SDN_Switches_Study-S=1,N=1-#0.sca /C/Users/Timo/Workspace/omnet/SDN4CoRE/examples/papers/vtc2023spring/scaling/./results/SDN_Switches_Study-S=1,N=1-#0.vec -T v -f 'module(**.publishers**.middleware.**)' -o /C/Users/Timo/Workspace/omnet/SDN4CoRE/examples/papers/vtc2023spring/scaling/./results/SDN_Switches_Study-S=1,N=1-#0.csv; sleep 5\"\n"
     ]
    }
   ],
   "source": [
    "\n",
    "RESULTS_DIR = SDN4CORE_PATH + \"examples/papers/vtc2023spring/scaling/\"\n",
    "MODULE_FILTER = \"**.publishers**.middleware.**\"\n",
    "resultfiles = glob.glob(\"./results/SDN_Switches_Study-S=1,N=1-#0.sca\")\n",
    "for resultfile in resultfiles:\n",
    "    command = OMNETPP_PATH + \"tools\\win64\\\\msys2_shell.cmd -mingw64 -ic \\\"echo \" + resultfile.replace(\"\\\\\",\"/\").replace(\".sca\",\".*\") + \"; scavetool x \" + RESULTS_DIR + resultfile.replace(\"\\\\\",\"/\") + \" \" + RESULTS_DIR + resultfile.replace(\"\\\\\",\"/\").replace(\".sca\",\".vec\") + \" -T v -f \\'module(\" + MODULE_FILTER + \")\\'\" + \" -o \" + RESULTS_DIR + resultfile.replace(\"\\\\\",\"/\").replace(\".sca\",\".csv\") + \"; sleep 5\\\"\"\n",
    "    print(command)\n",
    "    os.environ[\"HOME\"] = OMNETPP_PATH\n",
    "    os.system(command)\n",
    "time.sleep(60)\n"
   ]
  },
  {
   "cell_type": "markdown",
   "metadata": {},
   "source": [
    "# Parse Results from csv"
   ]
  },
  {
   "cell_type": "code",
   "execution_count": 69,
   "metadata": {},
   "outputs": [
    {
     "data": {
      "text/plain": [
       "{'./results/SDN_Switches_Study-S=1,N=1-#0.csv': {'MAX': array([0.00949484]),\n",
       "  'MIN': array([0.00949484])}}"
      ]
     },
     "execution_count": 69,
     "metadata": {},
     "output_type": "execute_result"
    }
   ],
   "source": [
    "CSV_FILE = \"./results/SDN_Switches_Study-S=1,N=1-#0.csv\"\n",
    "study = pd.read_csv(CSV_FILE, converters = {\n",
    "    'attrvalue': parse_if_number,\n",
    "    'binedges': parse_ndarray,\n",
    "    'binvalues': parse_ndarray,\n",
    "    'vectime': parse_ndarray,\n",
    "    'vecvalue': parse_ndarray})\n",
    "filtered = study[(study.type==\"vector\") & (study.name==\"remotes:vector(constant1)\")]\n",
    "lastRemote[CSV_FILE][\"MAX\"] = filtered[\"vectime\"].max()\n",
    "lastRemote[CSV_FILE][\"MIN\"] = filtered[\"vectime\"].min()\n",
    "lastRemote"
   ]
  }
 ],
 "metadata": {
  "kernelspec": {
   "display_name": "Python 3.10.8 64-bit (microsoft store)",
   "language": "python",
   "name": "python3"
  },
  "language_info": {
   "codemirror_mode": {
    "name": "ipython",
    "version": 3
   },
   "file_extension": ".py",
   "mimetype": "text/x-python",
   "name": "python",
   "nbconvert_exporter": "python",
   "pygments_lexer": "ipython3",
   "version": "3.10.8"
  },
  "orig_nbformat": 4,
  "vscode": {
   "interpreter": {
    "hash": "001c618765d51c741533e235764002c09fe1f3710de06415362adaf8b96eb45e"
   }
  }
 },
 "nbformat": 4,
 "nbformat_minor": 2
}
