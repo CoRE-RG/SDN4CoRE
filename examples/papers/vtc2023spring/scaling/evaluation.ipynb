{
 "cells": [
  {
   "cell_type": "code",
   "execution_count": 4,
   "metadata": {},
   "outputs": [],
   "source": [
    "import glob\n",
    "import pandas as pd\n",
    "import numpy as np\n",
    "import ntpath\n",
    "import matplotlib.pyplot as plt\n",
    "import os\n",
    "%matplotlib inline\n",
    "\n",
    "## Helpers:\n",
    "def parse_if_number(s):\n",
    "    try: return float(s)\n",
    "    except: return True if s==\"true\" else False if s==\"false\" else s if s else None\n",
    "\n",
    "def parse_ndarray(s):\n",
    "    return np.fromstring(s, sep=' ') if s else None\n",
    "\n",
    "def path_leaf(path):\n",
    "    head, tail = ntpath.split(path)\n",
    "    return tail or ntpath.basename(head)"
   ]
  },
  {
   "cell_type": "markdown",
   "metadata": {},
   "source": [
    "# Scavetool -- parse filtered result files into csv"
   ]
  },
  {
   "cell_type": "code",
   "execution_count": 18,
   "metadata": {},
   "outputs": [
    {
     "name": "stdout",
     "output_type": "stream",
     "text": [
      "C:\\omnet\\omnetpp-5.5.1\\tools\\win64\\msys2_shell.cmd -mingw64 -ic \"echo ./results/SDN_Switches_Study-S=1,N=1-#0.*; scavetool x /C/Users/Timo/Workspace/omnet/SDN4CoRE/examples/papers/vtc2023spring/scaling/./results/SDN_Switches_Study-S=1,N=1-#0.sca /C/Users/Timo/Workspace/omnet/SDN4CoRE/examples/papers/vtc2023spring/scaling/./results/SDN_Switches_Study-S=1,N=1-#0.vec -T v -f 'module(**.publishers**.middleware.**)' -o /C/Users/Timo/Workspace/omnet/SDN4CoRE/examples/papers/vtc2023spring/scaling/./results/SDN_Switches_Study-S=1,N=1-#0.csv; sleep 5\"\n"
     ]
    }
   ],
   "source": [
    "OMNETPP_PATH = \"C:\\\\omnet\\\\omnetpp-5.5.1\\\\\"\n",
    "RESULTS_DIR = \"/C/Users/Timo/Workspace/omnet/SDN4CoRE/examples/papers/vtc2023spring/scaling/\"\n",
    "MODULE_FILTER = \"**.publishers**.middleware.**\"\n",
    "resultfiles = glob.glob(\"./results/SDN_Switches_Study-S=1,N=1-#0.sca\")\n",
    "for resultfile in resultfiles:\n",
    "    command = OMNETPP_PATH + \"tools\\win64\\\\msys2_shell.cmd -mingw64 -ic \\\"echo \" + resultfile.replace(\"\\\\\",\"/\").replace(\".sca\",\".*\") + \"; scavetool x \" + RESULTS_DIR + resultfile.replace(\"\\\\\",\"/\") + \" \" + RESULTS_DIR + resultfile.replace(\"\\\\\",\"/\").replace(\".sca\",\".vec\") + \" -T v -f \\'module(\" + MODULE_FILTER + \")\\'\" + \" -o \" + RESULTS_DIR + resultfile.replace(\"\\\\\",\"/\").replace(\".sca\",\".csv\") + \"; sleep 5\\\"\"\n",
    "    print(command)\n",
    "    os.environ[\"HOME\"] = OMNETPP_PATH\n",
    "    os.system(command)\n"
   ]
  }
 ],
 "metadata": {
  "kernelspec": {
   "display_name": "Python 3.10.8 64-bit (microsoft store)",
   "language": "python",
   "name": "python3"
  },
  "language_info": {
   "codemirror_mode": {
    "name": "ipython",
    "version": 3
   },
   "file_extension": ".py",
   "mimetype": "text/x-python",
   "name": "python",
   "nbconvert_exporter": "python",
   "pygments_lexer": "ipython3",
   "version": "3.10.8"
  },
  "orig_nbformat": 4,
  "vscode": {
   "interpreter": {
    "hash": "001c618765d51c741533e235764002c09fe1f3710de06415362adaf8b96eb45e"
   }
  }
 },
 "nbformat": 4,
 "nbformat_minor": 2
}
